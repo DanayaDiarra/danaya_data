{
 "cells": [
  {
   "cell_type": "code",
   "execution_count": 43,
   "id": "7b53b13f-e288-4efd-9be1-09454c6ccd91",
   "metadata": {
    "scrolled": true
   },
   "outputs": [
    {
     "name": "stdout",
     "output_type": "stream",
     "text": [
      "Requirement already satisfied: category_encoders in /opt/conda/lib/python3.12/site-packages (2.8.1)\n",
      "Requirement already satisfied: numpy>=1.14.0 in /opt/conda/lib/python3.12/site-packages (from category_encoders) (1.26.4)\n",
      "Requirement already satisfied: pandas>=1.0.5 in /opt/conda/lib/python3.12/site-packages (from category_encoders) (2.2.3)\n",
      "Requirement already satisfied: patsy>=0.5.1 in /opt/conda/lib/python3.12/site-packages (from category_encoders) (1.0.1)\n",
      "Requirement already satisfied: scikit-learn>=1.6.0 in /opt/conda/lib/python3.12/site-packages (from category_encoders) (1.6.1)\n",
      "Requirement already satisfied: scipy>=1.0.0 in /opt/conda/lib/python3.12/site-packages (from category_encoders) (1.13.1)\n",
      "Requirement already satisfied: statsmodels>=0.9.0 in /opt/conda/lib/python3.12/site-packages (from category_encoders) (0.14.4)\n",
      "Requirement already satisfied: python-dateutil>=2.8.2 in /opt/conda/lib/python3.12/site-packages (from pandas>=1.0.5->category_encoders) (2.9.0.post0)\n",
      "Requirement already satisfied: pytz>=2020.1 in /opt/conda/lib/python3.12/site-packages (from pandas>=1.0.5->category_encoders) (2024.1)\n",
      "Requirement already satisfied: tzdata>=2022.7 in /opt/conda/lib/python3.12/site-packages (from pandas>=1.0.5->category_encoders) (2024.2)\n",
      "Requirement already satisfied: six>=1.5 in /opt/conda/lib/python3.12/site-packages (from python-dateutil>=2.8.2->pandas>=1.0.5->category_encoders) (1.16.0)\n",
      "Requirement already satisfied: joblib>=1.2.0 in /opt/conda/lib/python3.12/site-packages (from scikit-learn>=1.6.0->category_encoders) (1.4.2)\n",
      "Requirement already satisfied: threadpoolctl>=3.1.0 in /opt/conda/lib/python3.12/site-packages (from scikit-learn>=1.6.0->category_encoders) (3.5.0)\n",
      "Requirement already satisfied: packaging>=21.3 in /opt/conda/lib/python3.12/site-packages (from statsmodels>=0.9.0->category_encoders) (24.2)\n",
      "Requirement already satisfied: ydata-profiling in /opt/conda/lib/python3.12/site-packages (4.16.1)\n",
      "Requirement already satisfied: scipy<1.16,>=1.4.1 in /opt/conda/lib/python3.12/site-packages (from ydata-profiling) (1.13.1)\n",
      "Requirement already satisfied: pandas!=1.4.0,<3.0,>1.1 in /opt/conda/lib/python3.12/site-packages (from ydata-profiling) (2.2.3)\n",
      "Requirement already satisfied: matplotlib<=3.10,>=3.5 in /opt/conda/lib/python3.12/site-packages (from ydata-profiling) (3.9.3)\n",
      "Requirement already satisfied: pydantic>=2 in /opt/conda/lib/python3.12/site-packages (from ydata-profiling) (2.10.2)\n",
      "Requirement already satisfied: PyYAML<6.1,>=5.0.0 in /opt/conda/lib/python3.12/site-packages (from ydata-profiling) (6.0.2)\n",
      "Requirement already satisfied: jinja2<3.2,>=2.11.1 in /opt/conda/lib/python3.12/site-packages (from ydata-profiling) (3.1.4)\n",
      "Requirement already satisfied: visions<0.8.2,>=0.7.5 in /opt/conda/lib/python3.12/site-packages (from visions[type_image_path]<0.8.2,>=0.7.5->ydata-profiling) (0.8.1)\n",
      "Requirement already satisfied: numpy<2.2,>=1.16.0 in /opt/conda/lib/python3.12/site-packages (from ydata-profiling) (1.26.4)\n",
      "Requirement already satisfied: htmlmin==0.1.12 in /opt/conda/lib/python3.12/site-packages (from ydata-profiling) (0.1.12)\n",
      "Requirement already satisfied: phik<0.13,>=0.11.1 in /opt/conda/lib/python3.12/site-packages (from ydata-profiling) (0.12.4)\n",
      "Requirement already satisfied: requests<3,>=2.24.0 in /opt/conda/lib/python3.12/site-packages (from ydata-profiling) (2.32.3)\n",
      "Requirement already satisfied: tqdm<5,>=4.48.2 in /opt/conda/lib/python3.12/site-packages (from ydata-profiling) (4.67.1)\n",
      "Requirement already satisfied: seaborn<0.14,>=0.10.1 in /opt/conda/lib/python3.12/site-packages (from ydata-profiling) (0.13.2)\n",
      "Requirement already satisfied: multimethod<2,>=1.4 in /opt/conda/lib/python3.12/site-packages (from ydata-profiling) (1.12)\n",
      "Requirement already satisfied: statsmodels<1,>=0.13.2 in /opt/conda/lib/python3.12/site-packages (from ydata-profiling) (0.14.4)\n",
      "Requirement already satisfied: typeguard<5,>=3 in /opt/conda/lib/python3.12/site-packages (from ydata-profiling) (4.4.3)\n",
      "Requirement already satisfied: imagehash==4.3.1 in /opt/conda/lib/python3.12/site-packages (from ydata-profiling) (4.3.1)\n",
      "Requirement already satisfied: wordcloud>=1.9.3 in /opt/conda/lib/python3.12/site-packages (from ydata-profiling) (1.9.4)\n",
      "Requirement already satisfied: dacite>=1.8 in /opt/conda/lib/python3.12/site-packages (from ydata-profiling) (1.9.2)\n",
      "Requirement already satisfied: numba<=0.61,>=0.56.0 in /opt/conda/lib/python3.12/site-packages (from ydata-profiling) (0.60.0)\n",
      "Requirement already satisfied: PyWavelets in /opt/conda/lib/python3.12/site-packages (from imagehash==4.3.1->ydata-profiling) (1.7.0)\n",
      "Requirement already satisfied: pillow in /opt/conda/lib/python3.12/site-packages (from imagehash==4.3.1->ydata-profiling) (11.0.0)\n",
      "Requirement already satisfied: MarkupSafe>=2.0 in /opt/conda/lib/python3.12/site-packages (from jinja2<3.2,>=2.11.1->ydata-profiling) (3.0.2)\n",
      "Requirement already satisfied: contourpy>=1.0.1 in /opt/conda/lib/python3.12/site-packages (from matplotlib<=3.10,>=3.5->ydata-profiling) (1.3.1)\n",
      "Requirement already satisfied: cycler>=0.10 in /opt/conda/lib/python3.12/site-packages (from matplotlib<=3.10,>=3.5->ydata-profiling) (0.12.1)\n",
      "Requirement already satisfied: fonttools>=4.22.0 in /opt/conda/lib/python3.12/site-packages (from matplotlib<=3.10,>=3.5->ydata-profiling) (4.55.1)\n",
      "Requirement already satisfied: kiwisolver>=1.3.1 in /opt/conda/lib/python3.12/site-packages (from matplotlib<=3.10,>=3.5->ydata-profiling) (1.4.7)\n",
      "Requirement already satisfied: packaging>=20.0 in /opt/conda/lib/python3.12/site-packages (from matplotlib<=3.10,>=3.5->ydata-profiling) (24.2)\n",
      "Requirement already satisfied: pyparsing>=2.3.1 in /opt/conda/lib/python3.12/site-packages (from matplotlib<=3.10,>=3.5->ydata-profiling) (3.2.0)\n",
      "Requirement already satisfied: python-dateutil>=2.7 in /opt/conda/lib/python3.12/site-packages (from matplotlib<=3.10,>=3.5->ydata-profiling) (2.9.0.post0)\n",
      "Requirement already satisfied: llvmlite<0.44,>=0.43.0dev0 in /opt/conda/lib/python3.12/site-packages (from numba<=0.61,>=0.56.0->ydata-profiling) (0.43.0)\n",
      "Requirement already satisfied: pytz>=2020.1 in /opt/conda/lib/python3.12/site-packages (from pandas!=1.4.0,<3.0,>1.1->ydata-profiling) (2024.1)\n",
      "Requirement already satisfied: tzdata>=2022.7 in /opt/conda/lib/python3.12/site-packages (from pandas!=1.4.0,<3.0,>1.1->ydata-profiling) (2024.2)\n",
      "Requirement already satisfied: joblib>=0.14.1 in /opt/conda/lib/python3.12/site-packages (from phik<0.13,>=0.11.1->ydata-profiling) (1.4.2)\n",
      "Requirement already satisfied: charset_normalizer<4,>=2 in /opt/conda/lib/python3.12/site-packages (from requests<3,>=2.24.0->ydata-profiling) (3.4.0)\n",
      "Requirement already satisfied: idna<4,>=2.5 in /opt/conda/lib/python3.12/site-packages (from requests<3,>=2.24.0->ydata-profiling) (3.10)\n",
      "Requirement already satisfied: urllib3<3,>=1.21.1 in /opt/conda/lib/python3.12/site-packages (from requests<3,>=2.24.0->ydata-profiling) (2.2.3)\n",
      "Requirement already satisfied: certifi>=2017.4.17 in /opt/conda/lib/python3.12/site-packages (from requests<3,>=2.24.0->ydata-profiling) (2024.8.30)\n",
      "Requirement already satisfied: patsy>=0.5.6 in /opt/conda/lib/python3.12/site-packages (from statsmodels<1,>=0.13.2->ydata-profiling) (1.0.1)\n",
      "Requirement already satisfied: typing_extensions>=4.14.0 in /opt/conda/lib/python3.12/site-packages (from typeguard<5,>=3->ydata-profiling) (4.14.0)\n",
      "Requirement already satisfied: attrs>=19.3.0 in /opt/conda/lib/python3.12/site-packages (from visions<0.8.2,>=0.7.5->visions[type_image_path]<0.8.2,>=0.7.5->ydata-profiling) (24.2.0)\n",
      "Requirement already satisfied: networkx>=2.4 in /opt/conda/lib/python3.12/site-packages (from visions<0.8.2,>=0.7.5->visions[type_image_path]<0.8.2,>=0.7.5->ydata-profiling) (3.4.2)\n",
      "Requirement already satisfied: puremagic in /opt/conda/lib/python3.12/site-packages (from visions<0.8.2,>=0.7.5->visions[type_image_path]<0.8.2,>=0.7.5->ydata-profiling) (1.29)\n",
      "Requirement already satisfied: annotated-types>=0.6.0 in /opt/conda/lib/python3.12/site-packages (from pydantic>=2->ydata-profiling) (0.7.0)\n",
      "Requirement already satisfied: pydantic-core==2.27.1 in /opt/conda/lib/python3.12/site-packages (from pydantic>=2->ydata-profiling) (2.27.1)\n",
      "Requirement already satisfied: six>=1.5 in /opt/conda/lib/python3.12/site-packages (from python-dateutil>=2.7->matplotlib<=3.10,>=3.5->ydata-profiling) (1.16.0)\n"
     ]
    }
   ],
   "source": [
    "!pip install category_encoders \n",
    "!pip install ydata-profiling"
   ]
  },
  {
   "cell_type": "code",
   "execution_count": 2,
   "id": "013f45fe-b581-465b-84f4-f8d4606daf37",
   "metadata": {},
   "outputs": [
    {
     "data": {
      "text/html": [
       "\n",
       "            <div>\n",
       "                <ins><a href=\"https://ydata.ai/register\">Upgrade to ydata-sdk</a></ins>\n",
       "                <p>\n",
       "                    Improve your data and profiling with ydata-sdk, featuring data quality scoring, redundancy detection, outlier identification, text validation, and synthetic data generation.\n",
       "                </p>\n",
       "            </div>\n",
       "            "
      ],
      "text/plain": [
       "<IPython.core.display.HTML object>"
      ]
     },
     "metadata": {},
     "output_type": "display_data"
    }
   ],
   "source": [
    "from sklearn.preprocessing import OneHotEncoder , LabelEncoder, OrdinalEncoder, FunctionTransformer\n",
    "from sklearn.model_selection import train_test_split\n",
    "from sklearn.feature_extraction import FeatureHasher\n",
    "from sklearn.compose import ColumnTransformer\n",
    "from sklearn.pipeline import Pipeline\n",
    "from category_encoders import BinaryEncoder, TargetEncoder\n",
    "from ydata_profiling import ProfileReport\n",
    "from sklearn.preprocessing import MinMaxScaler\n",
    "from scipy import stats\n",
    "import pandas as pd\n",
    "import numpy as np"
   ]
  },
  {
   "cell_type": "code",
   "execution_count": 53,
   "id": "096a82b6-73b4-4f3e-821d-4d16ab7c2623",
   "metadata": {},
   "outputs": [],
   "source": [
    "url ='https://drive.google.com/uc?id=1KEMfwDKxd5klTA9tFo6Nsgmi0pANIl7m'\n",
    "data = pd.read_csv(url)"
   ]
  },
  {
   "cell_type": "code",
   "execution_count": 4,
   "id": "b11bf993-380f-4afe-bb09-33b2e5bb7a7d",
   "metadata": {},
   "outputs": [
    {
     "data": {
      "application/vnd.jupyter.widget-view+json": {
       "model_id": "cdf2712f345f47869f0ee9cfed12e4a0",
       "version_major": 2,
       "version_minor": 0
      },
      "text/plain": [
       "Summarize dataset:   0%|          | 0/5 [00:00<?, ?it/s]"
      ]
     },
     "metadata": {},
     "output_type": "display_data"
    },
    {
     "name": "stderr",
     "output_type": "stream",
     "text": [
      "\n",
      "  0%|          | 0/15 [00:00<?, ?it/s]\u001b[A\n",
      "  7%|▋         | 1/15 [00:00<00:05,  2.59it/s]\u001b[A\n",
      " 13%|█▎        | 2/15 [00:00<00:05,  2.30it/s]\u001b[A\n",
      " 20%|██        | 3/15 [00:01<00:03,  3.11it/s]\u001b[A\n",
      " 27%|██▋       | 4/15 [00:01<00:02,  4.26it/s]\u001b[A\n",
      "100%|██████████| 15/15 [00:01<00:00, 10.03it/s][A\n"
     ]
    },
    {
     "data": {
      "application/vnd.jupyter.widget-view+json": {
       "model_id": "e939e4fbffdc43faa33e085e454fb6ec",
       "version_major": 2,
       "version_minor": 0
      },
      "text/plain": [
       "Generate report structure:   0%|          | 0/1 [00:00<?, ?it/s]"
      ]
     },
     "metadata": {},
     "output_type": "display_data"
    },
    {
     "data": {
      "application/vnd.jupyter.widget-view+json": {
       "model_id": "a523b4154ed24d95ac36f2a4308d03fd",
       "version_major": 2,
       "version_minor": 0
      },
      "text/plain": [
       "Render HTML:   0%|          | 0/1 [00:00<?, ?it/s]"
      ]
     },
     "metadata": {},
     "output_type": "display_data"
    },
    {
     "data": {
      "application/vnd.jupyter.widget-view+json": {
       "model_id": "0ff716359ca84fa88e1e5caf5a95a6bb",
       "version_major": 2,
       "version_minor": 0
      },
      "text/plain": [
       "Export report to file:   0%|          | 0/1 [00:00<?, ?it/s]"
      ]
     },
     "metadata": {},
     "output_type": "display_data"
    }
   ],
   "source": [
    "# DATA PROFILLING\n",
    "profile = ProfileReport(data, title=\"Car Dataset Report\")\n",
    "profile.to_file(\"Car Dataset Report.html\")"
   ]
  },
  {
   "cell_type": "code",
   "execution_count": null,
   "id": "fb98ac03-8bba-4e51-bba7-885025ca750e",
   "metadata": {},
   "outputs": [],
   "source": []
  },
  {
   "cell_type": "code",
   "execution_count": 54,
   "id": "fc6a05f0-1cef-4af5-9dcc-37add095a195",
   "metadata": {},
   "outputs": [
    {
     "data": {
      "text/html": [
       "<div>\n",
       "<style scoped>\n",
       "    .dataframe tbody tr th:only-of-type {\n",
       "        vertical-align: middle;\n",
       "    }\n",
       "\n",
       "    .dataframe tbody tr th {\n",
       "        vertical-align: top;\n",
       "    }\n",
       "\n",
       "    .dataframe thead th {\n",
       "        text-align: right;\n",
       "    }\n",
       "</style>\n",
       "<table border=\"1\" class=\"dataframe\">\n",
       "  <thead>\n",
       "    <tr style=\"text-align: right;\">\n",
       "      <th></th>\n",
       "      <th>year</th>\n",
       "      <th>make</th>\n",
       "      <th>model</th>\n",
       "      <th>trim</th>\n",
       "      <th>body</th>\n",
       "      <th>transmission</th>\n",
       "      <th>vin</th>\n",
       "      <th>state</th>\n",
       "      <th>condition</th>\n",
       "      <th>odometer</th>\n",
       "      <th>color</th>\n",
       "      <th>interior</th>\n",
       "      <th>seller</th>\n",
       "      <th>sellingprice</th>\n",
       "      <th>saledate</th>\n",
       "    </tr>\n",
       "  </thead>\n",
       "  <tbody>\n",
       "    <tr>\n",
       "      <th>0</th>\n",
       "      <td>2013</td>\n",
       "      <td>Ford</td>\n",
       "      <td>Fusion</td>\n",
       "      <td>SE</td>\n",
       "      <td>Sedan</td>\n",
       "      <td>automatic</td>\n",
       "      <td>3fa6p0h71dr236627</td>\n",
       "      <td>wi</td>\n",
       "      <td>47.0</td>\n",
       "      <td>17548.0</td>\n",
       "      <td>white</td>\n",
       "      <td>black</td>\n",
       "      <td>lease plan usa</td>\n",
       "      <td>14200</td>\n",
       "      <td>Wed Feb 04 2015 02:30:00 GMT-0800 (PST)</td>\n",
       "    </tr>\n",
       "    <tr>\n",
       "      <th>1</th>\n",
       "      <td>2013</td>\n",
       "      <td>Infiniti</td>\n",
       "      <td>JX</td>\n",
       "      <td>JX35</td>\n",
       "      <td>SUV</td>\n",
       "      <td>automatic</td>\n",
       "      <td>5n1al0mn8dc329790</td>\n",
       "      <td>ca</td>\n",
       "      <td>43.0</td>\n",
       "      <td>22035.0</td>\n",
       "      <td>gray</td>\n",
       "      <td>black</td>\n",
       "      <td>infiniti of montclair</td>\n",
       "      <td>31000</td>\n",
       "      <td>Tue Jun 16 2015 05:00:00 GMT-0700 (PDT)</td>\n",
       "    </tr>\n",
       "    <tr>\n",
       "      <th>2</th>\n",
       "      <td>2009</td>\n",
       "      <td>Jeep</td>\n",
       "      <td>Grand Cherokee</td>\n",
       "      <td>Laredo</td>\n",
       "      <td>SUV</td>\n",
       "      <td>automatic</td>\n",
       "      <td>1j8gr48k69c529636</td>\n",
       "      <td>ne</td>\n",
       "      <td>34.0</td>\n",
       "      <td>95559.0</td>\n",
       "      <td>silver</td>\n",
       "      <td>gray</td>\n",
       "      <td>dm northwest inc</td>\n",
       "      <td>11600</td>\n",
       "      <td>Thu Jan 15 2015 03:00:00 GMT-0800 (PST)</td>\n",
       "    </tr>\n",
       "    <tr>\n",
       "      <th>3</th>\n",
       "      <td>2008</td>\n",
       "      <td>Ford</td>\n",
       "      <td>F-350 Super Duty</td>\n",
       "      <td>XLT</td>\n",
       "      <td>Crew Cab</td>\n",
       "      <td>automatic</td>\n",
       "      <td>1ftww31rx8ed43632</td>\n",
       "      <td>wa</td>\n",
       "      <td>43.0</td>\n",
       "      <td>135870.0</td>\n",
       "      <td>white</td>\n",
       "      <td>gray</td>\n",
       "      <td>lexus of tacoma at fife</td>\n",
       "      <td>15400</td>\n",
       "      <td>Wed Feb 11 2015 05:20:00 GMT-0800 (PST)</td>\n",
       "    </tr>\n",
       "    <tr>\n",
       "      <th>4</th>\n",
       "      <td>2014</td>\n",
       "      <td>Kia</td>\n",
       "      <td>Sportage</td>\n",
       "      <td>LX</td>\n",
       "      <td>SUV</td>\n",
       "      <td>automatic</td>\n",
       "      <td>kndpbcac3e7642651</td>\n",
       "      <td>nv</td>\n",
       "      <td>44.0</td>\n",
       "      <td>13604.0</td>\n",
       "      <td>white</td>\n",
       "      <td>gray</td>\n",
       "      <td>kia motors america  inc</td>\n",
       "      <td>18500</td>\n",
       "      <td>Fri Mar 06 2015 04:00:00 GMT-0800 (PST)</td>\n",
       "    </tr>\n",
       "  </tbody>\n",
       "</table>\n",
       "</div>"
      ],
      "text/plain": [
       "   year      make             model    trim      body transmission  \\\n",
       "0  2013      Ford            Fusion      SE     Sedan    automatic   \n",
       "1  2013  Infiniti                JX    JX35       SUV    automatic   \n",
       "2  2009      Jeep    Grand Cherokee  Laredo       SUV    automatic   \n",
       "3  2008      Ford  F-350 Super Duty     XLT  Crew Cab    automatic   \n",
       "4  2014       Kia          Sportage      LX       SUV    automatic   \n",
       "\n",
       "                 vin state  condition  odometer   color interior  \\\n",
       "0  3fa6p0h71dr236627    wi       47.0   17548.0   white    black   \n",
       "1  5n1al0mn8dc329790    ca       43.0   22035.0    gray    black   \n",
       "2  1j8gr48k69c529636    ne       34.0   95559.0  silver     gray   \n",
       "3  1ftww31rx8ed43632    wa       43.0  135870.0   white     gray   \n",
       "4  kndpbcac3e7642651    nv       44.0   13604.0   white     gray   \n",
       "\n",
       "                    seller  sellingprice  \\\n",
       "0           lease plan usa         14200   \n",
       "1    infiniti of montclair         31000   \n",
       "2         dm northwest inc         11600   \n",
       "3  lexus of tacoma at fife         15400   \n",
       "4  kia motors america  inc         18500   \n",
       "\n",
       "                                  saledate  \n",
       "0  Wed Feb 04 2015 02:30:00 GMT-0800 (PST)  \n",
       "1  Tue Jun 16 2015 05:00:00 GMT-0700 (PDT)  \n",
       "2  Thu Jan 15 2015 03:00:00 GMT-0800 (PST)  \n",
       "3  Wed Feb 11 2015 05:20:00 GMT-0800 (PST)  \n",
       "4  Fri Mar 06 2015 04:00:00 GMT-0800 (PST)  "
      ]
     },
     "execution_count": 54,
     "metadata": {},
     "output_type": "execute_result"
    }
   ],
   "source": [
    "data.head()"
   ]
  },
  {
   "cell_type": "code",
   "execution_count": null,
   "id": "cbbf1e80-da30-4205-a1ea-94c62c87fdfa",
   "metadata": {},
   "outputs": [],
   "source": []
  },
  {
   "cell_type": "code",
   "execution_count": 55,
   "id": "58d26b36-4bec-41e4-b136-c266fb05fa3b",
   "metadata": {},
   "outputs": [],
   "source": [
    "# HANDLING MISSING VALUES"
   ]
  },
  {
   "cell_type": "code",
   "execution_count": 56,
   "id": "ec42f368-f6b8-401a-8474-0d5add6c24a4",
   "metadata": {},
   "outputs": [
    {
     "name": "stdout",
     "output_type": "stream",
     "text": [
      "Missing Values \n",
      "--------------------\n",
      "year               0\n",
      "make             953\n",
      "model            963\n",
      "trim             988\n",
      "body            1218\n",
      "transmission    5986\n",
      "vin                1\n",
      "state              0\n",
      "condition       1077\n",
      "odometer           5\n",
      "color             54\n",
      "interior          54\n",
      "seller             0\n",
      "sellingprice       0\n",
      "saledate           0\n",
      "dtype: int64\n"
     ]
    }
   ],
   "source": [
    "missing_val = data.isnull().sum()\n",
    "print('Missing Values ')\n",
    "print('--------------------')\n",
    "print(missing_val)"
   ]
  },
  {
   "cell_type": "code",
   "execution_count": 57,
   "id": "a9bd6cf5-3664-4d38-8490-dbcdc7905989",
   "metadata": {},
   "outputs": [],
   "source": [
    "data_numeric = data.select_dtypes(include=[np.number])\n",
    "categorical_col = data.drop(data_numeric, axis= 1)"
   ]
  },
  {
   "cell_type": "code",
   "execution_count": 58,
   "id": "16b7501f-ad83-4ff1-b936-c5408b5ab3d9",
   "metadata": {},
   "outputs": [
    {
     "data": {
      "text/plain": [
       "year               0\n",
       "condition       1077\n",
       "odometer           5\n",
       "sellingprice       0\n",
       "dtype: int64"
      ]
     },
     "execution_count": 58,
     "metadata": {},
     "output_type": "execute_result"
    }
   ],
   "source": [
    "data_numeric.isnull().sum()"
   ]
  },
  {
   "cell_type": "code",
   "execution_count": 59,
   "id": "412d8b58-7d84-4128-95d3-3eae6b5e44c2",
   "metadata": {},
   "outputs": [],
   "source": [
    "from sklearn.impute import SimpleImputer"
   ]
  },
  {
   "cell_type": "code",
   "execution_count": 60,
   "id": "d6601c04-2003-4148-b6ad-2fbb107c617e",
   "metadata": {},
   "outputs": [
    {
     "name": "stdout",
     "output_type": "stream",
     "text": [
      "Value used for imputing: 30.619422357582323\n"
     ]
    }
   ],
   "source": [
    "# MEAN IMPUTE for NUMERICAL COLS\n",
    "imputer = SimpleImputer(strategy = 'mean')\n",
    "imputer.fit(data[['condition','odometer']])\n",
    "\n",
    "# Value used for imputing\n",
    "impute_value = imputer.statistics_[0]\n",
    "print(f\"Value used for imputing: {impute_value}\")\n",
    "\n",
    "# Apply imputation\n",
    "data[['condition','odometer']] = imputer.transform(data[['condition', 'odometer']])"
   ]
  },
  {
   "cell_type": "code",
   "execution_count": 61,
   "id": "c4ba623a-0451-4ec5-84fd-e01f949403dd",
   "metadata": {},
   "outputs": [
    {
     "data": {
      "text/plain": [
       "make             953\n",
       "model            963\n",
       "trim             988\n",
       "body            1218\n",
       "transmission    5986\n",
       "vin                1\n",
       "state              0\n",
       "color             54\n",
       "interior          54\n",
       "seller             0\n",
       "saledate           0\n",
       "dtype: int64"
      ]
     },
     "execution_count": 61,
     "metadata": {},
     "output_type": "execute_result"
    }
   ],
   "source": [
    "categorical_col.isnull().sum()"
   ]
  },
  {
   "cell_type": "code",
   "execution_count": 62,
   "id": "c43edad9-5615-42a1-aa5e-32022bee7f0c",
   "metadata": {},
   "outputs": [
    {
     "name": "stdout",
     "output_type": "stream",
     "text": [
      "Values used for imputing: ['make' 'model' 'trim' 'body' 'transmission' 'vin' 'color' 'interior']: ['Ford' 'Altima' 'Base' 'Sedan' 'automatic' '19xfb2f85ee234128' 'black'\n",
      " 'black']\n"
     ]
    }
   ],
   "source": [
    " # MODE IMPUTE for CATEGORICALS\n",
    "imputer = SimpleImputer(strategy='most_frequent')\n",
    "imputer.fit(data[['make', 'model', 'trim', 'body', 'transmission', 'vin', 'color', 'interior']])\n",
    "\n",
    "# # Value used for imputing\n",
    "print(f\"Values used for imputing: {imputer.feature_names_in_}: {imputer.statistics_}\")\n",
    "\n",
    "# # Apply imputation\n",
    "data[['make', 'model', 'trim', 'body', 'transmission', 'vin', 'color', 'interior']] = imputer.transform(data[['make', 'model', 'trim', 'body', 'transmission', 'vin', 'color', 'interior']])\n"
   ]
  },
  {
   "cell_type": "code",
   "execution_count": null,
   "id": "e0984566-7331-41b5-ad8b-2d125f9a37a2",
   "metadata": {},
   "outputs": [],
   "source": []
  },
  {
   "cell_type": "code",
   "execution_count": 63,
   "id": "e8d1d204-91f5-485f-a563-19d2fd56fa9f",
   "metadata": {
    "scrolled": true
   },
   "outputs": [
    {
     "data": {
      "text/plain": [
       "year            0\n",
       "make            0\n",
       "model           0\n",
       "trim            0\n",
       "body            0\n",
       "transmission    0\n",
       "vin             0\n",
       "state           0\n",
       "condition       0\n",
       "odometer        0\n",
       "color           0\n",
       "interior        0\n",
       "seller          0\n",
       "sellingprice    0\n",
       "saledate        0\n",
       "dtype: int64"
      ]
     },
     "execution_count": 63,
     "metadata": {},
     "output_type": "execute_result"
    }
   ],
   "source": [
    "# Check for nulls after IMPUTING\n",
    "data.isnull().sum()"
   ]
  },
  {
   "cell_type": "code",
   "execution_count": 64,
   "id": "831c8bbd-3257-4165-9df2-51efed732485",
   "metadata": {},
   "outputs": [],
   "source": [
    "# SPLIT 'TARGET' AND 'FEATURES'"
   ]
  },
  {
   "cell_type": "code",
   "execution_count": 65,
   "id": "a4579224-70be-4283-9959-7aedbbff99fa",
   "metadata": {},
   "outputs": [],
   "source": [
    "# SCALING \"SELLINGPRICE\""
   ]
  },
  {
   "cell_type": "code",
   "execution_count": 66,
   "id": "d76a226a-8cf6-4aa8-a47c-5c70c1782900",
   "metadata": {},
   "outputs": [
    {
     "data": {
      "text/plain": [
       "(50000, 1)"
      ]
     },
     "execution_count": 66,
     "metadata": {},
     "output_type": "execute_result"
    }
   ],
   "source": [
    "# data_Sc = data['sellingprice']\n",
    "scaler = MinMaxScaler(feature_range=(0, 1))\n",
    "scaled_data = scaler.fit_transform(data[['sellingprice']])  \n",
    "\n",
    "scaled_data.shape"
   ]
  },
  {
   "cell_type": "code",
   "execution_count": 70,
   "id": "8c7a8ecd-64d3-4978-8c27-c928b59be508",
   "metadata": {},
   "outputs": [
    {
     "data": {
      "text/plain": [
       "(50000, 1)"
      ]
     },
     "execution_count": 70,
     "metadata": {},
     "output_type": "execute_result"
    }
   ],
   "source": [
    "# Target\n",
    "Y = data[['sellingprice']]\n",
    "Y.shape"
   ]
  },
  {
   "cell_type": "code",
   "execution_count": 71,
   "id": "424ce408-3f0b-4506-9a09-8af767ad0a3e",
   "metadata": {},
   "outputs": [
    {
     "data": {
      "text/plain": [
       "(50000, 14)"
      ]
     },
     "execution_count": 71,
     "metadata": {},
     "output_type": "execute_result"
    }
   ],
   "source": [
    "# features\n",
    "X = data.drop(columns = 'sellingprice', axis = 1)\n",
    "X.shape"
   ]
  },
  {
   "cell_type": "code",
   "execution_count": 72,
   "id": "8b24a8eb-54de-4252-a7cb-2778b6ce020b",
   "metadata": {},
   "outputs": [],
   "source": [
    "# TRANSFORMING CATEGORICAL COLUMNS\n"
   ]
  },
  {
   "cell_type": "code",
   "execution_count": 73,
   "id": "48de0ab2-98d7-4e3a-b0c5-0501f2ffa302",
   "metadata": {},
   "outputs": [
    {
     "data": {
      "text/plain": [
       "Index(['make', 'model', 'trim', 'body', 'state', 'color', 'interior'], dtype='object')"
      ]
     },
     "execution_count": 73,
     "metadata": {},
     "output_type": "execute_result"
    }
   ],
   "source": [
    "categoricals  = categorical_col.columns.unique()\n",
    "categoricals = categoricals.drop(['vin','seller', 'saledate', 'transmission'])\n",
    "categoricals"
   ]
  },
  {
   "cell_type": "code",
   "execution_count": null,
   "id": "5f2d5a28-935b-4e39-a9b0-8e45f695cfe8",
   "metadata": {},
   "outputs": [],
   "source": []
  },
  {
   "cell_type": "code",
   "execution_count": 74,
   "id": "f91c3491-9281-43c8-bbe3-5b807bed0339",
   "metadata": {},
   "outputs": [],
   "source": [
    "# OneHotEncoder and BinaryEncoder"
   ]
  },
  {
   "cell_type": "code",
   "execution_count": 75,
   "id": "e9543f9c-666a-402f-9832-49eaf1ad8abf",
   "metadata": {},
   "outputs": [],
   "source": [
    "# ENCODING\n",
    "preprocessor = ColumnTransformer(\n",
    "    transformers = [\n",
    "        ('transmission', BinaryEncoder(), ['transmission']), # HANDLING high IMBALANCE ,\n",
    "        ('onehot', OneHotEncoder(handle_unknown ='ignore', sparse_output = False, min_frequency = 0.1, max_categories = 20),\n",
    "         categoricals)\n",
    "    ], remainder = 'drop'\n",
    ")"
   ]
  },
  {
   "cell_type": "code",
   "execution_count": 76,
   "id": "532049da-36f3-4f86-9061-013e6f8d8615",
   "metadata": {},
   "outputs": [],
   "source": [
    "#Train_test SPLIT to ENCODE\n",
    "X_train, X_test, Y_train, Y_test = train_test_split(X, Y, test_size = 0.2, random_state = 42)"
   ]
  },
  {
   "cell_type": "code",
   "execution_count": 77,
   "id": "02c2ddeb-bc73-4100-9fef-52252036ae62",
   "metadata": {},
   "outputs": [],
   "source": [
    "# We Fit ONLY on training data, then transform both\n",
    "X_train_prep = preprocessor.fit_transform(X_train)\n",
    "X_test_prep= preprocessor.transform(X_test) "
   ]
  },
  {
   "cell_type": "code",
   "execution_count": 78,
   "id": "1e2e316e-ff4f-48bf-8194-34e54bfccf9d",
   "metadata": {},
   "outputs": [],
   "source": [
    "X_train_prep = pd.DataFrame(X_train_prep)\n",
    "X_test_prep = pd.DataFrame(X_test_prep)"
   ]
  },
  {
   "cell_type": "code",
   "execution_count": 79,
   "id": "c78474ba-8a21-4ae3-b0e5-594c0ab98ee9",
   "metadata": {},
   "outputs": [],
   "source": [
    "y_train = pd.DataFrame(Y_train)\n",
    "y_test = pd.DataFrame(Y_test)"
   ]
  },
  {
   "cell_type": "code",
   "execution_count": 81,
   "id": "316701b5-b4f8-4eaf-87de-7ceef100d8e1",
   "metadata": {},
   "outputs": [
    {
     "data": {
      "text/html": [
       "<div>\n",
       "<style scoped>\n",
       "    .dataframe tbody tr th:only-of-type {\n",
       "        vertical-align: middle;\n",
       "    }\n",
       "\n",
       "    .dataframe tbody tr th {\n",
       "        vertical-align: top;\n",
       "    }\n",
       "\n",
       "    .dataframe thead th {\n",
       "        text-align: right;\n",
       "    }\n",
       "</style>\n",
       "<table border=\"1\" class=\"dataframe\">\n",
       "  <thead>\n",
       "    <tr style=\"text-align: right;\">\n",
       "      <th></th>\n",
       "      <th>sellingprice</th>\n",
       "    </tr>\n",
       "  </thead>\n",
       "  <tbody>\n",
       "    <tr>\n",
       "      <th>39087</th>\n",
       "      <td>12900</td>\n",
       "    </tr>\n",
       "    <tr>\n",
       "      <th>30893</th>\n",
       "      <td>13000</td>\n",
       "    </tr>\n",
       "    <tr>\n",
       "      <th>45278</th>\n",
       "      <td>4700</td>\n",
       "    </tr>\n",
       "    <tr>\n",
       "      <th>16398</th>\n",
       "      <td>13400</td>\n",
       "    </tr>\n",
       "    <tr>\n",
       "      <th>13653</th>\n",
       "      <td>8000</td>\n",
       "    </tr>\n",
       "    <tr>\n",
       "      <th>...</th>\n",
       "      <td>...</td>\n",
       "    </tr>\n",
       "    <tr>\n",
       "      <th>11284</th>\n",
       "      <td>7700</td>\n",
       "    </tr>\n",
       "    <tr>\n",
       "      <th>44732</th>\n",
       "      <td>18700</td>\n",
       "    </tr>\n",
       "    <tr>\n",
       "      <th>38158</th>\n",
       "      <td>35250</td>\n",
       "    </tr>\n",
       "    <tr>\n",
       "      <th>860</th>\n",
       "      <td>13000</td>\n",
       "    </tr>\n",
       "    <tr>\n",
       "      <th>15795</th>\n",
       "      <td>22800</td>\n",
       "    </tr>\n",
       "  </tbody>\n",
       "</table>\n",
       "<p>40000 rows × 1 columns</p>\n",
       "</div>"
      ],
      "text/plain": [
       "       sellingprice\n",
       "39087         12900\n",
       "30893         13000\n",
       "45278          4700\n",
       "16398         13400\n",
       "13653          8000\n",
       "...             ...\n",
       "11284          7700\n",
       "44732         18700\n",
       "38158         35250\n",
       "860           13000\n",
       "15795         22800\n",
       "\n",
       "[40000 rows x 1 columns]"
      ]
     },
     "execution_count": 81,
     "metadata": {},
     "output_type": "execute_result"
    }
   ],
   "source": [
    "y_train"
   ]
  },
  {
   "cell_type": "code",
   "execution_count": 82,
   "id": "2f3b05cb-429a-4f71-bf73-7caac0d1762f",
   "metadata": {},
   "outputs": [
    {
     "data": {
      "text/html": [
       "<div>\n",
       "<style scoped>\n",
       "    .dataframe tbody tr th:only-of-type {\n",
       "        vertical-align: middle;\n",
       "    }\n",
       "\n",
       "    .dataframe tbody tr th {\n",
       "        vertical-align: top;\n",
       "    }\n",
       "\n",
       "    .dataframe thead th {\n",
       "        text-align: right;\n",
       "    }\n",
       "</style>\n",
       "<table border=\"1\" class=\"dataframe\">\n",
       "  <thead>\n",
       "    <tr style=\"text-align: right;\">\n",
       "      <th></th>\n",
       "      <th>sellingprice</th>\n",
       "    </tr>\n",
       "  </thead>\n",
       "  <tbody>\n",
       "    <tr>\n",
       "      <th>33553</th>\n",
       "      <td>11000</td>\n",
       "    </tr>\n",
       "    <tr>\n",
       "      <th>9427</th>\n",
       "      <td>4100</td>\n",
       "    </tr>\n",
       "    <tr>\n",
       "      <th>199</th>\n",
       "      <td>11900</td>\n",
       "    </tr>\n",
       "    <tr>\n",
       "      <th>12447</th>\n",
       "      <td>2300</td>\n",
       "    </tr>\n",
       "    <tr>\n",
       "      <th>39489</th>\n",
       "      <td>28100</td>\n",
       "    </tr>\n",
       "    <tr>\n",
       "      <th>...</th>\n",
       "      <td>...</td>\n",
       "    </tr>\n",
       "    <tr>\n",
       "      <th>28567</th>\n",
       "      <td>25000</td>\n",
       "    </tr>\n",
       "    <tr>\n",
       "      <th>25079</th>\n",
       "      <td>4600</td>\n",
       "    </tr>\n",
       "    <tr>\n",
       "      <th>18707</th>\n",
       "      <td>12500</td>\n",
       "    </tr>\n",
       "    <tr>\n",
       "      <th>15200</th>\n",
       "      <td>13500</td>\n",
       "    </tr>\n",
       "    <tr>\n",
       "      <th>5857</th>\n",
       "      <td>23500</td>\n",
       "    </tr>\n",
       "  </tbody>\n",
       "</table>\n",
       "<p>10000 rows × 1 columns</p>\n",
       "</div>"
      ],
      "text/plain": [
       "       sellingprice\n",
       "33553         11000\n",
       "9427           4100\n",
       "199           11900\n",
       "12447          2300\n",
       "39489         28100\n",
       "...             ...\n",
       "28567         25000\n",
       "25079          4600\n",
       "18707         12500\n",
       "15200         13500\n",
       "5857          23500\n",
       "\n",
       "[10000 rows x 1 columns]"
      ]
     },
     "execution_count": 82,
     "metadata": {},
     "output_type": "execute_result"
    }
   ],
   "source": [
    "y_test"
   ]
  },
  {
   "cell_type": "code",
   "execution_count": 83,
   "id": "b9da3d7b-09c8-4fbb-a754-20b2e4290011",
   "metadata": {},
   "outputs": [],
   "source": [
    "if isinstance(y_train, np.ndarray):\n",
    "    Y_train = pd.DataFrame(y_train, columns=['sellingprice']) \n",
    "if isinstance(Y_test, np.ndarray):\n",
    "    y_test = pd.DataFrame(y_test, columns=['sellingprice'])"
   ]
  },
  {
   "cell_type": "code",
   "execution_count": 84,
   "id": "34d52fb7-5935-4c8a-ae05-6dfe3bca49ab",
   "metadata": {},
   "outputs": [
    {
     "data": {
      "text/html": [
       "<div>\n",
       "<style scoped>\n",
       "    .dataframe tbody tr th:only-of-type {\n",
       "        vertical-align: middle;\n",
       "    }\n",
       "\n",
       "    .dataframe tbody tr th {\n",
       "        vertical-align: top;\n",
       "    }\n",
       "\n",
       "    .dataframe thead th {\n",
       "        text-align: right;\n",
       "    }\n",
       "</style>\n",
       "<table border=\"1\" class=\"dataframe\">\n",
       "  <thead>\n",
       "    <tr style=\"text-align: right;\">\n",
       "      <th></th>\n",
       "      <th>sellingprice</th>\n",
       "    </tr>\n",
       "  </thead>\n",
       "  <tbody>\n",
       "    <tr>\n",
       "      <th>33553</th>\n",
       "      <td>11000</td>\n",
       "    </tr>\n",
       "    <tr>\n",
       "      <th>9427</th>\n",
       "      <td>4100</td>\n",
       "    </tr>\n",
       "    <tr>\n",
       "      <th>199</th>\n",
       "      <td>11900</td>\n",
       "    </tr>\n",
       "    <tr>\n",
       "      <th>12447</th>\n",
       "      <td>2300</td>\n",
       "    </tr>\n",
       "    <tr>\n",
       "      <th>39489</th>\n",
       "      <td>28100</td>\n",
       "    </tr>\n",
       "    <tr>\n",
       "      <th>...</th>\n",
       "      <td>...</td>\n",
       "    </tr>\n",
       "    <tr>\n",
       "      <th>28567</th>\n",
       "      <td>25000</td>\n",
       "    </tr>\n",
       "    <tr>\n",
       "      <th>25079</th>\n",
       "      <td>4600</td>\n",
       "    </tr>\n",
       "    <tr>\n",
       "      <th>18707</th>\n",
       "      <td>12500</td>\n",
       "    </tr>\n",
       "    <tr>\n",
       "      <th>15200</th>\n",
       "      <td>13500</td>\n",
       "    </tr>\n",
       "    <tr>\n",
       "      <th>5857</th>\n",
       "      <td>23500</td>\n",
       "    </tr>\n",
       "  </tbody>\n",
       "</table>\n",
       "<p>10000 rows × 1 columns</p>\n",
       "</div>"
      ],
      "text/plain": [
       "       sellingprice\n",
       "33553         11000\n",
       "9427           4100\n",
       "199           11900\n",
       "12447          2300\n",
       "39489         28100\n",
       "...             ...\n",
       "28567         25000\n",
       "25079          4600\n",
       "18707         12500\n",
       "15200         13500\n",
       "5857          23500\n",
       "\n",
       "[10000 rows x 1 columns]"
      ]
     },
     "execution_count": 84,
     "metadata": {},
     "output_type": "execute_result"
    }
   ],
   "source": [
    " y_test"
   ]
  },
  {
   "cell_type": "code",
   "execution_count": 87,
   "id": "51a51bdc-f9c2-4694-833d-4d14f4ec35c3",
   "metadata": {},
   "outputs": [],
   "source": [
    "# 2. Save all files\n",
    "X_train_prep.to_csv('X_train_preprocessed.csv', index=False)\n",
    "X_test_prep.to_csv('X_test_preprocessed.csv', index=False)\n",
    "y_train.to_csv('y_train.csv', index=False)\n",
    "y_test.to_csv('y_test.csv', index=False)"
   ]
  },
  {
   "cell_type": "code",
   "execution_count": 88,
   "id": "b5bc49d9-3003-4ff9-b6c3-989c8eed4bba",
   "metadata": {},
   "outputs": [
    {
     "name": "stdout",
     "output_type": "stream",
     "text": [
      "Data shapes verification:\n",
      "X_train: (40000, 23) → Saved as X_train_preprocessed.csv\n",
      "X_test: (10000, 23) → Saved as X_test_preprocessed.csv\n",
      "y_train: (40000, 1) → Saved as y_train.csv\n",
      "y_test: (10000, 1) → Saved as y_test.csv\n",
      "\n",
      "Data saved successfully!\n"
     ]
    }
   ],
   "source": [
    "# 3. Verification step\n",
    "print(\"Data shapes verification:\")\n",
    "print(f\"X_train: {X_train_prep.shape} → Saved as X_train_preprocessed.csv\")\n",
    "print(f\"X_test: {X_test_prep.shape} → Saved as X_test_preprocessed.csv\")\n",
    "print(f\"y_train: {y_train.shape} → Saved as y_train.csv\")\n",
    "print(f\"y_test: {y_test.shape} → Saved as y_test.csv\")\n",
    "\n",
    "print(\"\\nData saved successfully!\")"
   ]
  },
  {
   "cell_type": "code",
   "execution_count": null,
   "id": "88da99cb-bf0b-4555-95c6-4e176333a96b",
   "metadata": {},
   "outputs": [],
   "source": []
  },
  {
   "cell_type": "code",
   "execution_count": null,
   "id": "54c5cfee-d9d8-4093-b502-585d7019888a",
   "metadata": {},
   "outputs": [],
   "source": []
  }
 ],
 "metadata": {
  "kernelspec": {
   "display_name": "Python 3 (ipykernel)",
   "language": "python",
   "name": "python3"
  },
  "language_info": {
   "codemirror_mode": {
    "name": "ipython",
    "version": 3
   },
   "file_extension": ".py",
   "mimetype": "text/x-python",
   "name": "python",
   "nbconvert_exporter": "python",
   "pygments_lexer": "ipython3",
   "version": "3.12.7"
  }
 },
 "nbformat": 4,
 "nbformat_minor": 5
}
